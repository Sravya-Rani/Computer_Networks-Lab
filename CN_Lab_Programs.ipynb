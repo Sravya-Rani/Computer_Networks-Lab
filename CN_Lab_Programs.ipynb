{
  "nbformat": 4,
  "nbformat_minor": 0,
  "metadata": {
    "colab": {
      "provenance": []
    },
    "kernelspec": {
      "name": "python3",
      "display_name": "Python 3"
    },
    "language_info": {
      "name": "python"
    }
  },
  "cells": [
    {
      "cell_type": "code",
      "execution_count": 1,
      "metadata": {
        "colab": {
          "base_uri": "https://localhost:8080/"
        },
        "id": "oTcQx3tEEpXE",
        "outputId": "60c64c9f-65ef-4c24-cdd2-f9173d34689d"
      },
      "outputs": [
        {
          "output_type": "stream",
          "name": "stdout",
          "text": [
            "Encapsulation:\n",
            "Application Layer Header -> Hello World\n",
            "Presentation Layer Header -> Application Layer Header -> Hello World\n",
            "Session Layer Header -> Presentation Layer Header -> Application Layer Header -> Hello World\n",
            "Transport Layer Header -> Session Layer Header -> Presentation Layer Header -> Application Layer Header -> Hello World\n",
            "Network Layer Header -> Transport Layer Header -> Session Layer Header -> Presentation Layer Header -> Application Layer Header -> Hello World\n",
            "Data Link Layer Header -> Network Layer Header -> Transport Layer Header -> Session Layer Header -> Presentation Layer Header -> Application Layer Header -> Hello World\n",
            "Physical Layer Header -> Data Link Layer Header -> Network Layer Header -> Transport Layer Header -> Session Layer Header -> Presentation Layer Header -> Application Layer Header -> Hello World\n",
            "\n",
            "Decapsulation:\n",
            "Removing Physical Layer Header: Data Link Layer Header -> Network Layer Header -> Transport Layer Header -> Session Layer Header -> Presentation Layer Header -> Application Layer Header -> Hello World\n",
            "Removing Data Link Layer Header: Network Layer Header -> Transport Layer Header -> Session Layer Header -> Presentation Layer Header -> Application Layer Header -> Hello World\n",
            "Removing Network Layer Header: Transport Layer Header -> Session Layer Header -> Presentation Layer Header -> Application Layer Header -> Hello World\n",
            "Removing Transport Layer Header: Session Layer Header -> Presentation Layer Header -> Application Layer Header -> Hello World\n",
            "Removing Session Layer Header: Presentation Layer Header -> Application Layer Header -> Hello World\n",
            "Removing Presentation Layer Header: Application Layer Header -> Hello World\n",
            "Removing Application Layer Header: Hello World\n"
          ]
        }
      ],
      "source": [
        "# 1)OSI Layer Simulation\n",
        "\n",
        "layers = [\n",
        "    \"Physical Layer\",\n",
        "    \"Data Link Layer\",\n",
        "    \"Network Layer\",\n",
        "    \"Transport Layer\",\n",
        "    \"Session Layer\",\n",
        "    \"Presentation Layer\",\n",
        "    \"Application Layer\"\n",
        "]\n",
        "\n",
        "def osi_model(data):\n",
        "    print(\"Encapsulation:\")\n",
        "    for layer in reversed(layers):\n",
        "        data = f\"{layer} Header -> {data}\"\n",
        "        print(data)\n",
        "\n",
        "    print(\"\\nDecapsulation:\")\n",
        "    for layer in layers:\n",
        "        data = data.replace(f\"{layer} Header -> \", \"\", 1)\n",
        "        print(f\"Removing {layer} Header: {data}\")\n",
        "\n",
        "osi_model(\"Hello World\")"
      ]
    },
    {
      "cell_type": "code",
      "source": [
        "# 2) ARP and RARP simulation using dictionaries\n",
        "\n",
        "# Simulated network table: IP -> MAC\n",
        "network_table = {\n",
        "    \"192.168.0.1\": \"AA:BB:CC:DD:EE:01\",\n",
        "    \"192.168.0.2\": \"AA:BB:CC:DD:EE:02\",\n",
        "    \"192.168.0.3\": \"AA:BB:CC:DD:EE:03\"\n",
        "}\n",
        "\n",
        "# RARP table: MAC -> IP\n",
        "rarp_table = {v: k for k, v in network_table.items()}\n",
        "\n",
        "# Function to simulate ARP\n",
        "def arp(ip):\n",
        "    mac = network_table.get(ip)\n",
        "    if mac:\n",
        "        print(f\"ARP: IP address {ip} is at MAC address {mac}\")\n",
        "    else:\n",
        "        print(f\"ARP: IP address {ip} not found in the network table.\")\n",
        "\n",
        "# Function to simulate RARP\n",
        "def rarp(mac):\n",
        "    ip = rarp_table.get(mac.upper())\n",
        "    if ip:\n",
        "        print(f\"RARP: MAC address {mac} belongs to IP address {ip}\")\n",
        "    else:\n",
        "        print(f\"RARP: MAC address {mac} not found in the network table.\")\n",
        "\n",
        "# Example usage\n",
        "arp(\"192.168.0.2\")\n",
        "rarp(\"AA:BB:CC:DD:EE:03\")"
      ],
      "metadata": {
        "colab": {
          "base_uri": "https://localhost:8080/"
        },
        "id": "6jCpwUnUFBV-",
        "outputId": "50eabcc6-e5b4-43ca-a463-0210e2256418"
      },
      "execution_count": 2,
      "outputs": [
        {
          "output_type": "stream",
          "name": "stdout",
          "text": [
            "ARP: IP address 192.168.0.2 is at MAC address AA:BB:CC:DD:EE:02\n",
            "RARP: MAC address AA:BB:CC:DD:EE:03 belongs to IP address 192.168.0.3\n"
          ]
        }
      ]
    },
    {
      "cell_type": "code",
      "source": [
        "# 3)CRC Error Detection\n",
        "\n",
        "\n",
        "def xor(a, b):\n",
        "    result = \"\"\n",
        "    for i in range(1, len(b)):\n",
        "        result += '0' if a[i] == b[i] else '1'\n",
        "    return result\n",
        "\n",
        "def mod2div(dividend, divisor):\n",
        "    pick = len(divisor)\n",
        "    tmp = dividend[0:pick]\n",
        "    while pick < len(dividend):\n",
        "        tmp = xor(divisor, tmp) + dividend[pick]\n",
        "        pick += 1\n",
        "    return xor(divisor, tmp)\n",
        "\n",
        "def encodeData(data, key):\n",
        "    appended_data = data + '0'*(len(key)-1)\n",
        "    remainder = mod2div(appended_data, key)\n",
        "    return data + remainder\n",
        "\n",
        "data = \"1010101\"\n",
        "key = \"1101\"\n",
        "print(\"Encoded Data (CRC):\", encodeData(data, key))"
      ],
      "metadata": {
        "colab": {
          "base_uri": "https://localhost:8080/"
        },
        "id": "WYmBG2R_FhLi",
        "outputId": "c502b694-47fc-4839-ddb7-1fdca615f101"
      },
      "execution_count": 3,
      "outputs": [
        {
          "output_type": "stream",
          "name": "stdout",
          "text": [
            "Encoded Data (CRC): 1010101011\n"
          ]
        }
      ]
    },
    {
      "cell_type": "code",
      "source": [
        "# 4)Hamming Code for error correction (7,4)*\n",
        "\n",
        "\n",
        "def calcParityBits(data):\n",
        "    p1 = data[0] ^ data[1] ^ data[3]\n",
        "    p2 = data[0] ^ data[2] ^ data[3]\n",
        "    p3 = data[1] ^ data[2] ^ data[3]\n",
        "    return [p1, p2, data[0], p3, data[1], data[2], data[3]]\n",
        "\n",
        "data = [1, 0, 1, 1]\n",
        "code = calcParityBits(data)\n",
        "print(\"Hamming Code:\", code)"
      ],
      "metadata": {
        "colab": {
          "base_uri": "https://localhost:8080/"
        },
        "id": "v-xgW1pwF1rc",
        "outputId": "8c631b66-cf36-49c5-cd0a-0608a57983bf"
      },
      "execution_count": 5,
      "outputs": [
        {
          "output_type": "stream",
          "name": "stdout",
          "text": [
            "Hamming Code: [0, 1, 1, 0, 0, 1, 1]\n"
          ]
        }
      ]
    },
    {
      "cell_type": "code",
      "source": [
        "# 5)flow_error\n",
        "def stop_and_wait(frames):\n",
        "    for i, frame in enumerate(frames):\n",
        "        print(f\"Sending frame {i}\")\n",
        "        print(f\"Acknowledgment for frame {i} received\\n\")\n",
        "\n",
        "stop_and_wait([\"A\", \"B\", \"C\"])\n",
        "\n",
        "def go_back_n(window_size):\n",
        "    for i in range(0, 10, window_size):\n",
        "        print(f\"Sending frames {i} to {i+window_size-1}\")\n",
        "        print(\"ACK lost! Resending all...\\n\")\n",
        "\n",
        "go_back_n(3)\n",
        "\n",
        "\n",
        "received = [True, False, True, True]\n",
        "\n",
        "for i, ack in enumerate(received):\n",
        "    if not ack:\n",
        "        print(f\"Frame {i} not acknowledged. Resending...\")\n",
        "    else:\n",
        "        print(f\"Frame {i} acknowledged.\")"
      ],
      "metadata": {
        "colab": {
          "base_uri": "https://localhost:8080/"
        },
        "id": "ps3ulvbrF8a7",
        "outputId": "63642f7a-bdbe-42fc-ff0a-764151eaf663"
      },
      "execution_count": 7,
      "outputs": [
        {
          "output_type": "stream",
          "name": "stdout",
          "text": [
            "Sending frame 0\n",
            "Acknowledgment for frame 0 received\n",
            "\n",
            "Sending frame 1\n",
            "Acknowledgment for frame 1 received\n",
            "\n",
            "Sending frame 2\n",
            "Acknowledgment for frame 2 received\n",
            "\n",
            "Sending frames 0 to 2\n",
            "ACK lost! Resending all...\n",
            "\n",
            "Sending frames 3 to 5\n",
            "ACK lost! Resending all...\n",
            "\n",
            "Sending frames 6 to 8\n",
            "ACK lost! Resending all...\n",
            "\n",
            "Sending frames 9 to 11\n",
            "ACK lost! Resending all...\n",
            "\n",
            "Frame 0 acknowledged.\n",
            "Frame 1 not acknowledged. Resending...\n",
            "Frame 2 acknowledged.\n",
            "Frame 3 acknowledged.\n"
          ]
        }
      ]
    },
    {
      "cell_type": "code",
      "source": [
        "# 6)star topology\n",
        "import matplotlib.pyplot as plt\n",
        "import networkx as nx\n",
        "\n",
        "def draw_star_topology():\n",
        "    # Create a star graph with a central hub (node 0)\n",
        "    G = nx.Graph()\n",
        "    devices = ['A', 'B', 'C', 'D']\n",
        "    hub = 'Hub'\n",
        "\n",
        "    positions = {\n",
        "        'A': (-1, 1),\n",
        "        'B': (1, 1),\n",
        "        'C': (-1, -1),\n",
        "        'D': (1, -1),\n",
        "        'Hub': (0, 0)\n",
        "    }\n",
        "\n",
        "    G.add_node(hub)\n",
        "    for device in devices:\n",
        "        G.add_node(device)\n",
        "        G.add_edge(hub, device)\n",
        "\n",
        "    # Draw nodes\n",
        "    nx.draw_networkx_nodes(G, pos=positions, node_color='skyblue', node_size=1000)\n",
        "    # Draw edges\n",
        "    nx.draw_networkx_edges(G, pos=positions, width=2)\n",
        "    # Draw labels\n",
        "    nx.draw_networkx_labels(G, pos=positions, font_size=12, font_weight='bold')\n",
        "\n",
        "    # Add arrow for communication from A -> B via Hub\n",
        "    plt.arrow(-1, 1, 0.5, -1, head_width=0.1, color='red')  # A to Hub\n",
        "    plt.arrow(0, 0, 0.8, 1, head_width=0.1, color='red')   # Hub to B\n",
        "\n",
        "    plt.title(\"Star Topology - A sends data to B via Hub\", fontsize=14)\n",
        "    plt.axis('off')\n",
        "    plt.show()\n",
        "\n",
        "draw_star_topology()#"
      ],
      "metadata": {
        "colab": {
          "base_uri": "https://localhost:8080/",
          "height": 429
        },
        "id": "Sw5rZ9YnGFn5",
        "outputId": "77c847df-ea51-46f6-c5d5-8267bc28da0a"
      },
      "execution_count": 8,
      "outputs": [
        {
          "output_type": "display_data",
          "data": {
            "text/plain": [
              "<Figure size 640x480 with 1 Axes>"
            ],
            "image/png": "[encoded data removed]"
          },
          "metadata": {}
        }
      ]
    },
    {
      "cell_type": "code",
      "source": [
        "# 7)distance routing algorithm\n",
        "import matplotlib.pyplot as plt\n",
        "import networkx as nx\n",
        "\n",
        "def draw_distance_vector_topology():\n",
        "    # Create graph\n",
        "    G = nx.Graph()\n",
        "\n",
        "    # Add nodes (routers)\n",
        "    routers = ['1', '2', '3', '4']\n",
        "    G.add_nodes_from(routers)\n",
        "\n",
        "    # Add edges with weights (costs)\n",
        "    edges = [\n",
        "        ('1', '2', 2),\n",
        "        ('1', '4', 1),\n",
        "        ('2', '3', 3),\n",
        "        ('3', '4', 4)\n",
        "    ]\n",
        "    G.add_weighted_edges_from(edges)\n",
        "\n",
        "    # Define positions for layout\n",
        "    positions = {\n",
        "        '1': (0, 1),\n",
        "        '2': (-1, 0),\n",
        "        '3': (0, -1),\n",
        "        '4': (1, 0)\n",
        "    }\n",
        "\n",
        "    # Draw nodes\n",
        "    nx.draw_networkx_nodes(G, pos=positions, node_color='skyblue', node_size=1000)\n",
        "\n",
        "    # Draw edges with widths\n",
        "    nx.draw_networkx_edges(G, pos=positions, width=2)\n",
        "\n",
        "    # Draw labels for routers\n",
        "    nx.draw_networkx_labels(G, pos=positions, font_size=12, font_weight='bold')\n",
        "\n",
        "    # Draw edge labels (costs)\n",
        "    edge_labels = nx.get_edge_attributes(G, 'weight')\n",
        "    nx.draw_networkx_edge_labels(G, pos=positions, edge_labels=edge_labels, font_size=11)\n",
        "\n",
        "    plt.title(\"Distance Vector Routing Topology\", fontsize=14)\n",
        "    plt.axis('off')\n",
        "    plt.show()\n",
        "\n",
        "draw_distance_vector_topology()\n"
      ],
      "metadata": {
        "colab": {
          "base_uri": "https://localhost:8080/",
          "height": 429
        },
        "id": "T0d9PESuGco-",
        "outputId": "a727065d-0e1b-41a1-c8be-4ae9a1d49125"
      },
      "execution_count": 9,
      "outputs": [
        {
          "output_type": "display_data",
          "data": {
            "text/plain": [
              "<Figure size 640x480 with 1 Axes>"
            ],
            "image/png": "[encoded data removed]"
          },
          "metadata": {}
        }
      ]
    },
    {
      "cell_type": "code",
      "source": [
        "# 8)Token Bucket\n",
        "import time\n",
        "\n",
        "class TokenBucket:\n",
        "    def __init__(self, capacity, refill_rate):\n",
        "        \"\"\"\n",
        "        capacity: max tokens in the bucket\n",
        "        refill_rate: tokens added per second\n",
        "        \"\"\"\n",
        "        self.capacity = capacity\n",
        "        self.tokens = capacity\n",
        "        self.refill_rate = refill_rate\n",
        "        self.last_checked = time.time()\n",
        "\n",
        "    def allow_request(self, tokens_required=1):\n",
        "        current_time = time.time()\n",
        "        time_passed = current_time - self.last_checked\n",
        "        # Refill tokens based on time passed\n",
        "        self.tokens += time_passed * self.refill_rate\n",
        "        self.tokens = min(self.capacity, self.tokens)\n",
        "        self.last_checked = current_time\n",
        "\n",
        "        if self.tokens >= tokens_required:\n",
        "            self.tokens -= tokens_required\n",
        "            return True\n",
        "        else:\n",
        "            return False\n",
        "\n",
        "# Example Usage\n",
        "bucket = TokenBucket(capacity=5, refill_rate=1)  # 1 token/sec, 5 max\n",
        "\n",
        "for i in range(10):\n",
        "    if bucket.allow_request():\n",
        "        print(f\"Request {i+1} allowed ✅\")\n",
        "    else:\n",
        "        print(f\"Request {i+1} denied ❌\")\n",
        "    time.sleep(0.5)\n"
      ],
      "metadata": {
        "colab": {
          "base_uri": "https://localhost:8080/"
        },
        "id": "zsc5SKirGzVZ",
        "outputId": "af0de258-096b-49a9-da83-c89dd8030eaf"
      },
      "execution_count": 10,
      "outputs": [
        {
          "output_type": "stream",
          "name": "stdout",
          "text": [
            "Request 1 allowed ✅\n",
            "Request 2 allowed ✅\n",
            "Request 3 allowed ✅\n",
            "Request 4 allowed ✅\n",
            "Request 5 allowed ✅\n",
            "Request 6 allowed ✅\n",
            "Request 7 allowed ✅\n",
            "Request 8 allowed ✅\n",
            "Request 9 allowed ✅\n",
            "Request 10 denied ❌\n"
          ]
        }
      ]
    },
    {
      "cell_type": "code",
      "source": [
        "# 9)leaky bucket\n",
        "import time\n",
        "\n",
        "class LeakyBucket:\n",
        "    def __init__(self, capacity, leak_rate):\n",
        "        self.capacity = capacity        # maximum capacity of bucket\n",
        "        self.leak_rate = leak_rate      # leak rate (requests per second)\n",
        "        self.water = 0                  # current water level (requests in bucket)\n",
        "        self.last_checked = time.time() # last time bucket state was updated\n",
        "\n",
        "    def allow_request(self):\n",
        "        current_time = time.time()\n",
        "        time_passed = current_time - self.last_checked\n",
        "        leaked_water = time_passed * self.leak_rate\n",
        "        self.water = max(0, self.water - leaked_water)\n",
        "        self.last_checked = current_time\n",
        "\n",
        "        if self.water < self.capacity:\n",
        "            self.water += 1\n",
        "            return True\n",
        "        else:\n",
        "            return False\n",
        "\n",
        "# Example usage\n",
        "bucket = LeakyBucket(capacity=5, leak_rate=1)  # 5 requests max, leaks 1 per second\n",
        "\n",
        "for i in range(10):\n",
        "    if bucket.allow_request():\n",
        "        print(f\"Request {i+1}: Allowed\")\n",
        "    else:\n",
        "        print(f\"Request {i+1}: Denied\")\n",
        "    time.sleep(0.5)  # simulate incoming requests every 0.5s\n"
      ],
      "metadata": {
        "colab": {
          "base_uri": "https://localhost:8080/"
        },
        "id": "ue6jzpJjHG4s",
        "outputId": "28119bef-139f-4858-ed59-6e024774b29d"
      },
      "execution_count": 11,
      "outputs": [
        {
          "output_type": "stream",
          "name": "stdout",
          "text": [
            "Request 1: Allowed\n",
            "Request 2: Allowed\n",
            "Request 3: Allowed\n",
            "Request 4: Allowed\n",
            "Request 5: Allowed\n",
            "Request 6: Allowed\n",
            "Request 7: Allowed\n",
            "Request 8: Allowed\n",
            "Request 9: Allowed\n",
            "Request 10: Allowed\n"
          ]
        }
      ]
    },
    {
      "cell_type": "code",
      "source": [
        "# 10)web\n",
        "import socket\n",
        "\n",
        "def get_webpage(host, path=\"/\"):\n",
        "    s = socket.socket(socket.AF_INET, socket.SOCK_STREAM)\n",
        "    s.connect((host, 80))\n",
        "\n",
        "    request = f\"GET {path} HTTP/1.1\\r\\nHost: {host}\\r\\nConnection: close\\r\\n\\r\\n\"\n",
        "    s.sendall(request.encode())\n",
        "\n",
        "    response = b\"\"\n",
        "    while True:\n",
        "        chunk = s.recv(1024)\n",
        "        if not chunk:\n",
        "            break\n",
        "        response += chunk\n",
        "\n",
        "    s.close()\n",
        "    return response.decode(errors='ignore')  # Handle decoding issues\n",
        "\n",
        "# Example use\n",
        "html_data = get_webpage(\"www.example.com\")\n",
        "print(html_data)\n"
      ],
      "metadata": {
        "colab": {
          "base_uri": "https://localhost:8080/"
        },
        "id": "RuyF7WbBHV9q",
        "outputId": "3d120246-3841-463b-a866-af19f1731f39"
      },
      "execution_count": 12,
      "outputs": [
        {
          "output_type": "stream",
          "name": "stdout",
          "text": [
            "HTTP/1.1 200 OK\r\n",
            "Content-Type: text/html\r\n",
            "ETag: \"84238dfc8092e5d9c0dac8ef93371a07:1736799080.121134\"\r\n",
            "Last-Modified: Mon, 13 Jan 2025 20:11:20 GMT\r\n",
            "Cache-Control: max-age=1786\r\n",
            "Date: Thu, 24 Apr 2025 04:45:52 GMT\r\n",
            "Content-Length: 1256\r\n",
            "Connection: close\r\n",
            "X-N: S\r\n",
            "\r\n",
            "<!doctype html>\n",
            "<html>\n",
            "<head>\n",
            "    <title>Example Domain</title>\n",
            "\n",
            "    <meta charset=\"utf-8\" />\n",
            "    <meta http-equiv=\"Content-type\" content=\"text/html; charset=utf-8\" />\n",
            "    <meta name=\"viewport\" content=\"width=device-width, initial-scale=1\" />\n",
            "    <style type=\"text/css\">\n",
            "    body {\n",
            "        background-color: #f0f0f2;\n",
            "        margin: 0;\n",
            "        padding: 0;\n",
            "        font-family: -apple-system, system-ui, BlinkMacSystemFont, \"Segoe UI\", \"Open Sans\", \"Helvetica Neue\", Helvetica, Arial, sans-serif;\n",
            "        \n",
            "    }\n",
            "    div {\n",
            "        width: 600px;\n",
            "        margin: 5em auto;\n",
            "        padding: 2em;\n",
            "        background-color: #fdfdff;\n",
            "        border-radius: 0.5em;\n",
            "        box-shadow: 2px 3px 7px 2px rgba(0,0,0,0.02);\n",
            "    }\n",
            "    a:link, a:visited {\n",
            "        color: #38488f;\n",
            "        text-decoration: none;\n",
            "    }\n",
            "    @media (max-width: 700px) {\n",
            "        div {\n",
            "            margin: 0 auto;\n",
            "            width: auto;\n",
            "        }\n",
            "    }\n",
            "    </style>    \n",
            "</head>\n",
            "\n",
            "<body>\n",
            "<div>\n",
            "    <h1>Example Domain</h1>\n",
            "    <p>This domain is for use in illustrative examples in documents. You may use this\n",
            "    domain in literature without prior coordination or asking for permission.</p>\n",
            "    <p><a href=\"https://www.iana.org/domains/example\">More information...</a></p>\n",
            "</div>\n",
            "</body>\n",
            "</html>\n",
            "\n"
          ]
        }
      ]
    },
    {
      "cell_type": "code",
      "source": [
        "# 11)IPV4 address validator\n",
        "import re\n",
        "\n",
        "def is_valid_ipv4(ip):\n",
        "    pattern = r'^([0-9]{1,3}\\.){3}[0-9]{1,3}$'\n",
        "    if re.match(pattern, ip):\n",
        "        parts = ip.split('.')\n",
        "        for part in parts:\n",
        "            if int(part) < 0 or int(part) > 255:\n",
        "                return False\n",
        "        return True\n",
        "    return False\n",
        "\n",
        "def get_ip_class(ip):\n",
        "    first_octet = int(ip.split('.')[0])\n",
        "    if 1 <= first_octet <= 126:\n",
        "        return 'A'\n",
        "    elif 128 <= first_octet <= 191:\n",
        "        return 'B'\n",
        "    elif 192 <= first_octet <= 223:\n",
        "        return 'C'\n",
        "    elif 224 <= first_octet <= 239:\n",
        "        return 'D (Multicast)'\n",
        "    elif 240 <= first_octet <= 255:\n",
        "        return 'E (Reserved)'\n",
        "    else:\n",
        "        return 'Invalid'\n",
        "\n",
        "def is_private_ip(ip):\n",
        "    parts = list(map(int, ip.split('.')))\n",
        "    if parts[0] == 10:\n",
        "        return True\n",
        "    elif parts[0] == 172 and 16 <= parts[1] <= 31:\n",
        "        return True\n",
        "    elif parts[0] == 192 and parts[1] == 168:\n",
        "        return True\n",
        "    else:\n",
        "        return False\n",
        "\n",
        "# Example Usage\n",
        "ip_address = input(\"Enter an IPv4 address: \")\n",
        "\n",
        "if is_valid_ipv4(ip_address):\n",
        "    print(\"✅ Valid IPv4 address.\")\n",
        "    print(\"Class:\", get_ip_class(ip_address))\n",
        "    print(\"Private IP:\" if is_private_ip(ip_address) else \"Public IP.\")\n",
        "else:\n",
        "    print(\"❌ Invalid IPv4 address.\")\n"
      ],
      "metadata": {
        "colab": {
          "base_uri": "https://localhost:8080/"
        },
        "id": "HdUR5o_lHs6R",
        "outputId": "f2da4aee-4ff8-42b0-f209-8c9d23068fc5"
      },
      "execution_count": 14,
      "outputs": [
        {
          "output_type": "stream",
          "name": "stdout",
          "text": [
            "Enter an IPv4 address: 128.162.23.251\n",
            "✅ Valid IPv4 address.\n",
            "Class: B\n",
            "Public IP.\n"
          ]
        }
      ]
    },
    {
      "cell_type": "code",
      "source": [
        "# 12) IPV6 address validator\n",
        "import ipaddress\n",
        "\n",
        "def is_valid_ipv6(ip):\n",
        "    try:\n",
        "        # Validate using ipaddress module\n",
        "        ipaddress.IPv6Address(ip)\n",
        "        return True\n",
        "    except ipaddress.AddressValueError:\n",
        "        return False\n",
        "\n",
        "# Example Usage\n",
        "ip_address = input(\"Enter an IPv6 address: \")\n",
        "\n",
        "if is_valid_ipv6(ip_address):\n",
        "    print(\"✅ Valid IPv6 address.\")\n",
        "else:\n",
        "    print(\"❌ Invalid IPv6 address.\")\n"
      ],
      "metadata": {
        "colab": {
          "base_uri": "https://localhost:8080/"
        },
        "id": "3XnG7hg7H_xY",
        "outputId": "f339df72-32e5-4804-9feb-cb4cf6de7d75"
      },
      "execution_count": 15,
      "outputs": [
        {
          "output_type": "stream",
          "name": "stdout",
          "text": [
            "Enter an IPv6 address: 2001:db8:85a3::8a2e:370:7334\n",
            "✅ Valid IPv6 address.\n"
          ]
        }
      ]
    },
    {
      "cell_type": "code",
      "source": [
        "# 13)link state routing algorithm\n",
        "import heapq\n",
        "\n",
        "# Number of routers\n",
        "n = 4\n",
        "\n",
        "# Adjacency list with (cost, destination)\n",
        "graph = {\n",
        "    0: [(1, 1), (2, 3)],\n",
        "    1: [(0, 1), (2, 1), (3, 4)],\n",
        "    2: [(0, 3), (1, 1), (3, 2)],\n",
        "    3: [(1, 4), (2, 2)]\n",
        "}\n",
        "\n",
        "# Dijkstra’s Algorithm\n",
        "def dijkstra(src):\n",
        "    dist = [float('inf')] * n\n",
        "    dist[src] = 0\n",
        "    queue = [(0, src)]\n",
        "\n",
        "    while queue:\n",
        "        current_dist, u = heapq.heappop(queue)\n",
        "        for v, weight in graph[u]:\n",
        "            if dist[u] + weight < dist[v]:\n",
        "                dist[v] = dist[u] + weight\n",
        "                heapq.heappush(queue, (dist[v], v))\n",
        "    return dist\n",
        "\n",
        "# Compute shortest path for each router\n",
        "for i in range(n):\n",
        "    distances = dijkstra(i)\n",
        "    print(f\"Router {i}'s Table: {distances}\")\n"
      ],
      "metadata": {
        "colab": {
          "base_uri": "https://localhost:8080/"
        },
        "id": "fbEsdIpMIct_",
        "outputId": "5679ddb5-5a85-4d8d-c69d-a5c0e49f4efc"
      },
      "execution_count": 16,
      "outputs": [
        {
          "output_type": "stream",
          "name": "stdout",
          "text": [
            "Router 0's Table: [0, 1, 2, 4]\n",
            "Router 1's Table: [1, 0, 1, 3]\n",
            "Router 2's Table: [2, 1, 0, 2]\n",
            "Router 3's Table: [4, 3, 2, 0]\n"
          ]
        }
      ]
    },
    {
      "cell_type": "code",
      "source": [
        "# 14)Broadcastig\n",
        "import socket\n",
        "\n",
        "def broadcast_message(message, broadcast_ip=\"255.255.255.255\", port=9999):\n",
        "    # Create a socket for broadcasting\n",
        "    sock = socket.socket(socket.AF_INET, socket.SOCK_DGRAM)\n",
        "    sock.setsockopt(socket.SOL_SOCKET, socket.SO_BROADCAST, 1)\n",
        "\n",
        "    # Send the message to the broadcast address\n",
        "    sock.sendto(message.encode(), (broadcast_ip, port))\n",
        "    print(f\"Broadcasting message to {broadcast_ip}:{port}\")\n",
        "\n",
        "# Example usage\n",
        "message = \"Hello, this is a broadcast message!\"\n",
        "broadcast_message(message)\n"
      ],
      "metadata": {
        "colab": {
          "base_uri": "https://localhost:8080/"
        },
        "id": "ZNDyeVZWI6mU",
        "outputId": "6fe76a25-43da-4684-bc0e-ac2fbf6de3bd"
      },
      "execution_count": 17,
      "outputs": [
        {
          "output_type": "stream",
          "name": "stdout",
          "text": [
            "Broadcasting message to 255.255.255.255:9999\n"
          ]
        }
      ]
    },
    {
      "cell_type": "code",
      "source": [
        "# 15)Multicasting\n",
        "import socket\n",
        "import struct\n",
        "\n",
        "def multicast_message(message, multicast_ip=\"224.0.0.1\", port=9999):\n",
        "    # Create a socket for multicasting\n",
        "    sock = socket.socket(socket.AF_INET, socket.SOCK_DGRAM, socket.IPPROTO_UDP)\n",
        "\n",
        "    # Allow reuse of address (for multicast)\n",
        "    sock.setsockopt(socket.SOL_SOCKET, socket.SO_REUSEADDR, 1)\n",
        "\n",
        "    # Set the time-to-live (TTL) for multicast packets (e.g., 255 for the whole internet)\n",
        "    ttl = struct.pack('B', 255)  # Use 'B' instead of 'b' for values 0-255\n",
        "    sock.setsockopt(socket.IPPROTO_IP, socket.IP_MULTICAST_TTL, ttl)\n",
        "\n",
        "    # Send the message to the multicast group address\n",
        "    sock.sendto(message.encode(), (multicast_ip, port))\n",
        "    print(f\"Multicasting message to {multicast_ip}:{port}\")\n",
        "\n",
        "# Example usage\n",
        "message = \"Hello, this is a multicast message!\"\n",
        "multicast_message(message)\n"
      ],
      "metadata": {
        "colab": {
          "base_uri": "https://localhost:8080/"
        },
        "id": "ZeyQ4rSSJF32",
        "outputId": "82bf9069-6863-48c9-dd95-4a512e690e12"
      },
      "execution_count": 20,
      "outputs": [
        {
          "output_type": "stream",
          "name": "stdout",
          "text": [
            "Multicasting message to 224.0.0.1:9999\n"
          ]
        }
      ]
    },
    {
      "cell_type": "code",
      "source": [
        "\n",
        "# 16)Selective Repeat ARQ\n",
        "\n",
        "def selective_repeat(frames, window_size):\n",
        "    for i in range(0, len(frames), window_size):\n",
        "        window = frames[i:i+window_size]\n",
        "        print(f\"Sending frames: {window}\")\n",
        "        print(\"Only errored frames will be resent.\\n\")\n",
        "\n",
        "selective_repeat([\"F1\", \"F2\", \"F3\", \"F4\", \"F5\"], 2)"
      ],
      "metadata": {
        "colab": {
          "base_uri": "https://localhost:8080/"
        },
        "id": "6qvYvW07JTjc",
        "outputId": "d8cc5e16-3257-47e6-a864-9c4e81f48e15"
      },
      "execution_count": 21,
      "outputs": [
        {
          "output_type": "stream",
          "name": "stdout",
          "text": [
            "Sending frames: ['F1', 'F2']\n",
            "Only errored frames will be resent.\n",
            "\n",
            "Sending frames: ['F3', 'F4']\n",
            "Only errored frames will be resent.\n",
            "\n",
            "Sending frames: ['F5']\n",
            "Only errored frames will be resent.\n",
            "\n"
          ]
        }
      ]
    },
    {
      "cell_type": "code",
      "source": [
        "# 17)Slotted ALOHA Simulation\n",
        "\n",
        "\n",
        "import random\n",
        "\n",
        "def slotted_aloha():\n",
        "    slots = 10\n",
        "    success = 0\n",
        "    for t in range(slots):\n",
        "        users = random.choices([0,1], k=5)\n",
        "        if users.count(1) == 1:\n",
        "            success += 1\n",
        "    print(\"Successful Transmissions:\", success)\n",
        "\n",
        "slotted_aloha()"
      ],
      "metadata": {
        "colab": {
          "base_uri": "https://localhost:8080/"
        },
        "id": "PNfC4wgpJjap",
        "outputId": "c1c97c66-359d-40f4-c49f-f542befa0104"
      },
      "execution_count": 23,
      "outputs": [
        {
          "output_type": "stream",
          "name": "stdout",
          "text": [
            "Successful Transmissions: 2\n"
          ]
        }
      ]
    },
    {
      "cell_type": "code",
      "source": [
        "# 18)DDNS\n",
        "import requests\n",
        "import json\n",
        "\n",
        "# Cloudflare API settings\n",
        "api_url = \"https://api.cloudflare.com/client/v4\"\n",
        "api_token = \"your_cloudflare_api_token\"  # Replace with your Cloudflare API Token\n",
        "zone_id = \"your_zone_id\"  # Replace with your Cloudflare Zone ID\n",
        "record_id = \"your_record_id\"  # Replace with your DNS record ID (A record ID)\n",
        "dns_name = \"example.com\"  # The domain or subdomain you want to update (e.g., 'home.example.com')\n",
        "\n",
        "# Function to get the current public IP address\n",
        "def get_current_ip():\n",
        "    try:\n",
        "        response = requests.get(\"https://api.ipify.org?format=json\")\n",
        "        ip_data = response.json()\n",
        "        return ip_data['ip']\n",
        "    except requests.RequestException as e:\n",
        "        print(f\"Error fetching IP: {e}\")\n",
        "        return None\n",
        "\n",
        "# Function to update the DNS record\n",
        "def update_ddns(current_ip):\n",
        "    headers = {\n",
        "        \"Authorization\": f\"Bearer {api_token}\",\n",
        "        \"Content-Type\": \"application/json\"\n",
        "    }\n",
        "\n",
        "    # Prepare data to update the A record with the new IP address\n",
        "    data = {\n",
        "        \"type\": \"A\",  # Type of DNS record (A for IPv4)\n",
        "        \"name\": dns_name,  # The DNS name to update\n",
        "        \"content\": current_ip,  # The new IP address to update\n",
        "        \"ttl\": 1,  # TTL (time to live) in seconds (1 for automatic expiration)\n",
        "        \"proxied\": False  # Set to False if you do not want Cloudflare proxying the traffic\n",
        "    }\n",
        "\n",
        "    # API endpoint to update DNS record\n",
        "    update_url = f\"{api_url}/zones/{zone_id}/dns_records/{record_id}\"\n",
        "\n",
        "    # Send the request to update the DNS record\n",
        "    response = requests.put(update_url, headers=headers, data=json.dumps(data))\n",
        "\n",
        "    if response.status_code == 200:\n",
        "        print(f\"Successfully updated DNS record for {dns_name} to {current_ip}\")\n",
        "    else:\n",
        "        print(f\"Error updating DNS record: {response.status_code}, {response.text}\")\n",
        "\n",
        "# Main function to check IP and update DDNS\n",
        "def main():\n",
        "    current_ip = get_current_ip()\n",
        "    if current_ip:\n",
        "        print(f\"Current IP: {current_ip}\")\n",
        "        update_ddns(current_ip)\n",
        "    else:\n",
        "        print(\"Failed to retrieve current IP.\")\n",
        "\n",
        "# Run the DDNS update\n",
        "if __name__ == \"__main__\":\n",
        "    main()\n"
      ],
      "metadata": {
        "colab": {
          "base_uri": "https://localhost:8080/"
        },
        "id": "BPtZo4kLJmjn",
        "outputId": "23d6068b-1005-4554-acee-4b7f3b832135"
      },
      "execution_count": 25,
      "outputs": [
        {
          "output_type": "stream",
          "name": "stdout",
          "text": [
            "Current IP: 34.145.193.55\n",
            "Error updating DNS record: 404, {\"result\":null,\"success\":false,\"errors\":[{\"code\":7003,\"message\":\"Could not route to /client/v4/zones/your_zone_id/dns_records/your_record_id, perhaps your object identifier is invalid?\"}],\"messages\":[]}\n"
          ]
        }
      ]
    },
    {
      "cell_type": "code",
      "source": [
        "# 19)Firewall simulation\n",
        "import socket\n",
        "\n",
        "# Define simple firewall rules (allow/deny IPs and ports)\n",
        "ALLOW_RULES = [\n",
        "    ('192.168.1.100', 80),  # Allow traffic from this IP on port 80 (HTTP)\n",
        "    ('192.168.1.101', 22),  # Allow traffic from this IP on port 22 (SSH)\n",
        "]\n",
        "\n",
        "BLOCK_RULES = [\n",
        "    ('192.168.1.105', 80),  # Block traffic from this IP on port 80\n",
        "    ('192.168.1.106', 443),  # Block traffic from this IP on port 443\n",
        "]\n",
        "\n",
        "def check_firewall(ip, port):\n",
        "    # Check if the connection is allowed based on the rules\n",
        "    if (ip, port) in ALLOW_RULES:\n",
        "        print(f\"Allowed: {ip}:{port}\")\n",
        "        return True\n",
        "    elif (ip, port) in BLOCK_RULES:\n",
        "        print(f\"Blocked: {ip}:{port}\")\n",
        "        return False\n",
        "    else:\n",
        "        print(f\"Unknown: {ip}:{port}, action taken: Blocked by default.\")\n",
        "        return False\n",
        "\n",
        "# Simulate receiving a connection attempt\n",
        "def simulate_connection(ip, port):\n",
        "    if check_firewall(ip, port):\n",
        "        print(f\"Connection allowed from {ip} on port {port}.\")\n",
        "    else:\n",
        "        print(f\"Connection blocked from {ip} on port {port}.\")\n",
        "\n",
        "# Example Usage\n",
        "simulate_connection('192.168.1.100', 80)  # Allowed\n",
        "simulate_connection('192.168.1.106', 443)  # Blocked\n",
        "simulate_connection('192.168.1.200', 25)  # Default blocked\n"
      ],
      "metadata": {
        "colab": {
          "base_uri": "https://localhost:8080/"
        },
        "id": "pLnSsQOvJzjX",
        "outputId": "0f329ab7-9e86-46eb-dabd-e3d26038b5af"
      },
      "execution_count": 26,
      "outputs": [
        {
          "output_type": "stream",
          "name": "stdout",
          "text": [
            "Allowed: 192.168.1.100:80\n",
            "Connection allowed from 192.168.1.100 on port 80.\n",
            "Blocked: 192.168.1.106:443\n",
            "Connection blocked from 192.168.1.106 on port 443.\n",
            "Unknown: 192.168.1.200:25, action taken: Blocked by default.\n",
            "Connection blocked from 192.168.1.200 on port 25.\n"
          ]
        }
      ]
    },
    {
      "cell_type": "code",
      "source": [
        "\n",
        "# 20)CSMA/CD Simulation\n",
        "\n",
        "import random\n",
        "\n",
        "def csma_cd():\n",
        "    attempts = 0\n",
        "    while True:\n",
        "        attempts += 1\n",
        "        print(\"Checking if line is idle...\")\n",
        "        if random.random() > 0.2:\n",
        "            print(\"Transmitting data...\")\n",
        "            if random.random() < 0.1:\n",
        "                print(\"Collision detected! Sending jamming signal...\\n\")\n",
        "            else:\n",
        "                print(\"Data sent successfully.\\n\")\n",
        "                break\n",
        "\n",
        "csma_cd()"
      ],
      "metadata": {
        "colab": {
          "base_uri": "https://localhost:8080/"
        },
        "id": "Fu6pIjltKzPv",
        "outputId": "2e873ef0-da7c-4f8b-9b4d-6e5ae5f47127"
      },
      "execution_count": 33,
      "outputs": [
        {
          "output_type": "stream",
          "name": "stdout",
          "text": [
            "Checking if line is idle...\n",
            "Checking if line is idle...\n",
            "Transmitting data...\n",
            "Data sent successfully.\n",
            "\n"
          ]
        }
      ]
    },
    {
      "cell_type": "code",
      "source": [],
      "metadata": {
        "id": "Ll1zw6iLK5Kp"
      },
      "execution_count": null,
      "outputs": []
    }
  ]
}